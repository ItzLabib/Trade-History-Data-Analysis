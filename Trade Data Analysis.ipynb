{
 "cells": [
  {
   "cell_type": "code",
   "execution_count": null,
   "id": "da41d7d3",
   "metadata": {},
   "outputs": [],
   "source": [
    "import pandas as pd\n",
    "import ast\n",
    "\n",
    "# Load the CSV file\n",
    "data = pd.read_csv('Tradesdata.csv')"
   ]
  },
  {
   "cell_type": "code",
   "execution_count": null,
   "id": "95189d51",
   "metadata": {},
   "outputs": [],
   "source": [
    "# Parse Trade_History column\n",
    "def parse_trade_history(trade_history):\n",
    "    try:\n",
    "        return ast.literal_eval(trade_history)\n",
    "    except:\n",
    "        return []"
   ]
  },
  {
   "cell_type": "code",
   "execution_count": null,
   "id": "9a32bd6b",
   "metadata": {},
   "outputs": [],
   "source": [
    "# Expand the Trade_History into rows\n",
    "expanded_rows = []\n",
    "for _, row in data.iterrows():\n",
    "    port_id = row[\"Port_IDs\"]\n",
    "    trades = parse_trade_history(row[\"Trade_History\"])\n",
    "    for trade in trades:\n",
    "        trade[\"Port_ID\"] = port_id\n",
    "        expanded_rows.append(trade)"
   ]
  },
  {
   "cell_type": "code",
   "execution_count": null,
   "id": "d84d152b",
   "metadata": {},
   "outputs": [],
   "source": [
    "# Create a DataFrame with expanded trade history\n",
    "trades_df = pd.DataFrame(expanded_rows)\n",
    "\n",
    "# Calculate PnL and total investment for each account\n",
    "trades_df[\"realizedProfit\"] = trades_df[\"realizedProfit\"].astype(float)\n",
    "trades_df[\"quantity\"] = trades_df[\"quantity\"].astype(float)\n",
    "trades_df[\"price\"] = trades_df[\"price\"].astype(float)\n",
    "trades_df[\"trade_value\"] = trades_df[\"price\"] * trades_df[\"quantity\"]\n",
    "\n",
    "# Group data by Port_ID\n",
    "grouped = trades_df.groupby(\"Port_ID\").agg(\n",
    "    PnL=(\"realizedProfit\", \"sum\"),\n",
    "    Total_Investment=(\"trade_value\", \"sum\")\n",
    ")"
   ]
  },
  {
   "cell_type": "code",
   "execution_count": 17,
   "id": "2601a576",
   "metadata": {},
   "outputs": [
    {
     "name": "stdout",
     "output_type": "stream",
     "text": [
      "Top 20 Accounts by ROI:\n",
      "                             PnL  Total_Investment        ROI\n",
      "Port_ID                                                      \n",
      "3977234346014419201  2427.292831      6.644566e+03  36.530497\n",
      "4030708912786799105  1612.843770      6.948158e+03  23.212538\n",
      "4023697433751327232  2408.224000      1.055085e+04  22.824929\n",
      "4029506971304830209  2413.654000      1.098717e+04  21.967939\n",
      "4004713168329653760  1667.198610      8.383824e+03  19.885897\n",
      "3983074113875692800  2424.829520      1.290635e+04  18.787880\n",
      "4023697881318718465  3151.950620      2.095350e+04  15.042600\n",
      "4029507714735307777  1537.899960      1.428616e+04  10.764962\n",
      "3891020560590657281  2856.300564      4.201674e+04   6.798006\n",
      "4039279455324236544  1038.807419      5.651140e+04   1.838226\n",
      "4034786679304751616  2521.075869      1.611157e+05   1.564761\n",
      "4035034554469394176  2517.320800      4.620483e+05   0.544818\n",
      "4029749871687083265  3662.136548      1.026007e+06   0.356931\n",
      "4022641794255717633  2176.833824      6.247277e+05   0.348445\n",
      "4037717032428033792  1897.322999      5.485415e+05   0.345885\n",
      "4037785885739608577  1934.579235      6.617606e+05   0.292338\n",
      "4037073643537925121  1540.400500      5.727917e+05   0.268929\n",
      "4039129759104249600  1264.289200      5.405186e+05   0.233903\n",
      "4030392204221219329  1347.758010      6.375525e+05   0.211396\n",
      "4006366295148391425  3018.541806      1.430573e+06   0.211002\n"
     ]
    }
   ],
   "source": [
    "# Calculate ROI\n",
    "grouped[\"ROI\"] = (grouped[\"PnL\"] / grouped[\"Total_Investment\"]) * 100\n",
    "grouped[\"ROI\"] = grouped[\"ROI\"].fillna(0)  # Handle cases with zero investment\n",
    "\n",
    "# Rank by ROI and get the top 20\n",
    "top_20_accounts = grouped.sort_values(by=\"ROI\", ascending=False).head(20)\n",
    "\n",
    "# Save results to a CSV file\n",
    "top_20_accounts.to_csv(\"top_20_accounts_simple.csv\")\n",
    "\n",
    "# Display the top 20 accounts\n",
    "print(\"Top 20 Accounts by ROI:\")\n",
    "print(top_20_accounts)"
   ]
  },
  {
   "cell_type": "code",
   "execution_count": 18,
   "id": "756dcc38",
   "metadata": {},
   "outputs": [
    {
     "name": "stdout",
     "output_type": "stream",
     "text": [
      "Name: pandasNote: you may need to restart the kernel to use updated packages.\n",
      "\n",
      "Version: 1.5.3\n",
      "Summary: Powerful data structures for data analysis, time series, and statistics\n",
      "Home-page: https://pandas.pydata.org\n",
      "Author: The Pandas Development Team\n",
      "Author-email: pandas-dev@python.org\n",
      "License: BSD-3-Clause\n",
      "Location: C:\\Users\\Lenovo\\anaconda3\\Lib\\site-packages\n",
      "Requires: numpy, python-dateutil, pytz\n",
      "Required-by: bokeh, datashader, holoviews, hvplot, panel, seaborn, shap, statsmodels, xarray\n"
     ]
    }
   ],
   "source": [
    "pip show pandas\n"
   ]
  },
  {
   "cell_type": "code",
   "execution_count": null,
   "id": "20cb1d4c",
   "metadata": {},
   "outputs": [],
   "source": []
  }
 ],
 "metadata": {
  "kernelspec": {
   "display_name": "Python 3 (ipykernel)",
   "language": "python",
   "name": "python3"
  },
  "language_info": {
   "codemirror_mode": {
    "name": "ipython",
    "version": 3
   },
   "file_extension": ".py",
   "mimetype": "text/x-python",
   "name": "python",
   "nbconvert_exporter": "python",
   "pygments_lexer": "ipython3",
   "version": "3.11.3"
  }
 },
 "nbformat": 4,
 "nbformat_minor": 5
}
